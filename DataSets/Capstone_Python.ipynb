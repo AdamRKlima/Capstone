{
 "cells": [
  {
   "cell_type": "code",
   "execution_count": 60,
   "metadata": {},
   "outputs": [
    {
     "data": {
      "text/plain": [
       "1040"
      ]
     },
     "execution_count": 60,
     "metadata": {},
     "output_type": "execute_result"
    }
   ],
   "source": [
    "import pandas as pd\n",
    "import sqlite3\n",
    "\n",
    "#Set connection to SQLite Database\n",
    "conn=sqlite3.connect(\"Vet-Suicide-Rates.db\")\n",
    "c=conn.cursor()\n",
    "#open and read file\n",
    "open(\"num-of-suic-by-state.csv\")\n",
    "df=pd.read_csv(\"num-of-suic-by-state.csv\")\n",
    "#print(df) error check\n",
    "#Rename Columns\n",
    "df.rename(columns={\"Year\\nof\\nDeath\":'Year', \"Geographic\\nRegion\":'Region','State of Death':'State', 'Veteran\\nSuicides':\"Suicides\"},inplace=True)\n",
    "# print(df)#error check\n",
    "#export to SQLite DB\n",
    "df.to_sql('NumofSuicByState.sql',conn,if_exists='replace',index=False)\n"
   ]
  },
  {
   "cell_type": "code",
   "execution_count": 62,
   "metadata": {},
   "outputs": [
    {
     "data": {
      "text/plain": [
       "20"
      ]
     },
     "execution_count": 62,
     "metadata": {},
     "output_type": "execute_result"
    }
   ],
   "source": [
    "import pandas as pd\n",
    "import sqlite3\n",
    "\n",
    "#Set connection to SQLite Database\n",
    "conn=sqlite3.connect(\"Vet-Suicide-Rates.db\")\n",
    "c=conn.cursor()\n",
    "#open and read file\n",
    "open(\"Rates_by_Sex.csv\")\n",
    "ndf=pd.read_csv(\"Rates_by_Sex.csv\")\n",
    "# print(df) error check\n",
    "#Rename Columns\n",
    "ndf.rename(columns={\"Veteran\\nSuicide\\nDeaths\":'SuicideDeaths', \"Veteran\\nPopulation\\nEstimate\":'VeteranPop','Veteran\\nCrude\\nRate per\\n100,000':'CrudeRate/100,000', 'Veteran\\nAge-\\nAdjusted\\nRate per\\n100,000':\"AgeAdjustedRate/100,000\",\"Male Veteran\\nSuicide\\nDeaths\":'MaleSuicides', \"Male Veteran\\nPopulation\\nEstimate\":'MalePopEst','Male\\nVeteran\\nCrude\\nRate per\\n100,000':'MaleCrudeRate/100,000', 'Male\\nVeteran\\nAge-\\nAdjusted\\nRate per\\n100,000':\"MaleAgeAdjustedRate/100,000\",'Female\\nVeteran\\nSuicide\\nDeaths':\"FemaleSuicides\",'Female\\nVeteran\\nPopulation\\nEstimate':'FemalePopEst','Female\\nVeteran\\nCrude\\nRate per\\n100,000':'FemaleCrudeRate/100,000','Female\\nVeteran\\nAge-\\nAdjusted\\nRate per\\n100,000':'FemaleAgeAdjustedRate/100,000'},inplace=True)\n",
    "print(df)#error check\n",
    "#export to SQLite DB\n",
    "ndf.to_sql('RatesBySex.sql',conn,if_exists='replace',index=False)"
   ]
  }
 ],
 "metadata": {
  "kernelspec": {
   "display_name": "Python 3",
   "language": "python",
   "name": "python3"
  },
  "language_info": {
   "codemirror_mode": {
    "name": "ipython",
    "version": 3
   },
   "file_extension": ".py",
   "mimetype": "text/x-python",
   "name": "python",
   "nbconvert_exporter": "python",
   "pygments_lexer": "ipython3",
   "version": "3.11.3"
  },
  "orig_nbformat": 4
 },
 "nbformat": 4,
 "nbformat_minor": 2
}
