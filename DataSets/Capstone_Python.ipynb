{
 "cells": [
  {
   "cell_type": "code",
   "execution_count": 67,
   "metadata": {},
   "outputs": [
    {
     "data": {
      "text/plain": [
       "1040"
      ]
     },
     "execution_count": 67,
     "metadata": {},
     "output_type": "execute_result"
    }
   ],
   "source": [
    "import pandas as pd\n",
    "import sqlite3\n",
    "\n",
    "#Set connection to SQLite Database\n",
    "conn=sqlite3.connect(\"Vet-Suicide-Rates.db\")\n",
    "c=conn.cursor()\n",
    "\n",
    "#open and read file\n",
    "open(\"num-of-suic-by-state.csv\")\n",
    "df=pd.read_csv(\"num-of-suic-by-state.csv\")\n",
    "#print(df) #error check and check actual names for columns in preparation for changing column names to an acceptable format for SQlite\n",
    "\n",
    "#Rename Columns\n",
    "df.rename(columns={\"Year\\nof\\nDeath\":'Year', \"Geographic\\nRegion\":'Region','State of Death':'State', 'Veteran\\nSuicides':\"Suicides\"},inplace=True)\n",
    "# ndf.head()\n",
    "# print(df)#error check\n",
    "\n",
    "#export to SQLite DB\n",
    "df.to_sql('NumofSuicByState.sql',conn,if_exists='replace',index=False)\n"
   ]
  },
  {
   "cell_type": "code",
   "execution_count": 7,
   "metadata": {},
   "outputs": [
    {
     "name": "stdout",
     "output_type": "stream",
     "text": [
      "    Year SuicideDeaths  VeteranPop  CrudeRate/100,000   \n",
      "0   2001         6,001  25,733,000               23.3  \\\n",
      "1   2002         6,138  25,398,000               24.2   \n",
      "2   2003         6,005  24,993,000               24.0   \n",
      "3   2004         6,004  24,756,000               24.3   \n",
      "4   2005         6,123  24,600,000               24.9   \n",
      "5   2006         6,035  24,117,000               25.0   \n",
      "6   2007         6,249  23,649,000               26.4   \n",
      "7   2008         6,566  23,333,000               28.1   \n",
      "8   2009         6,518  22,983,000               28.4   \n",
      "9   2010         6,548  22,752,000               28.8   \n",
      "10  2011         6,447  22,521,000               28.6   \n",
      "11  2012         6,442  22,193,000               29.0   \n",
      "12  2013         6,503  22,000,000               29.6   \n",
      "13  2014         6,647  21,666,000               30.7   \n",
      "14  2015         6,624  21,241,000               31.2   \n",
      "15  2016         6,496  20,863,000               31.1   \n",
      "16  2017         6,783  20,480,000               33.1   \n",
      "17  2018         6,796  20,166,000               33.7   \n",
      "18  2019         6,489  19,797,000               32.8   \n",
      "19  2020         6,146  19,403,000               31.7   \n",
      "\n",
      "    AgeAdjustedRate/100,000  AgeAndSexAdjustedRate/100,000 MaleSuicides   \n",
      "0                      24.4                           17.1        5,847  \\\n",
      "1                      24.9                           16.8        6,004   \n",
      "2                      26.1                           18.2        5,853   \n",
      "3                      25.6                           18.1        5,836   \n",
      "4                      25.7                           18.6        5,933   \n",
      "5                      25.4                           18.0        5,862   \n",
      "6                      26.9                           19.2        6,063   \n",
      "7                      28.8                           21.1        6,357   \n",
      "8                      29.0                           21.6        6,289   \n",
      "9                      29.5                           22.0        6,313   \n",
      "10                     30.1                           22.8        6,194   \n",
      "11                     30.9                           23.0        6,201   \n",
      "12                     32.1                           24.1        6,249   \n",
      "13                     32.9                           25.3        6,353   \n",
      "14                     34.3                           26.6        6,309   \n",
      "15                     34.6                           26.5        6,197   \n",
      "16                     36.4                           29.3        6,405   \n",
      "17                     37.3                           29.5        6,439   \n",
      "18                     35.9                           27.9        6,144   \n",
      "19                     35.4                           26.6        5,870   \n",
      "\n",
      "    MalePopEst  MaleCrudeRate/100,000  MaleAgeAdjustedRate/100,000   \n",
      "0   24,112,000                   24.2                         26.0  \\\n",
      "1   23,720,000                   25.3                         26.8   \n",
      "2   23,288,000                   25.1                         28.1   \n",
      "3   23,002,000                   25.4                         27.5   \n",
      "4   22,757,000                   26.1                         27.6   \n",
      "5   22,295,000                   26.3                         27.5   \n",
      "6   21,871,000                   27.7                         29.2   \n",
      "7   21,593,000                   29.4                         31.2   \n",
      "8   21,203,000                   29.7                         31.1   \n",
      "9   20,967,000                   30.1                         31.9   \n",
      "10  20,694,000                   29.9                         32.5   \n",
      "11  20,348,000                   30.5                         33.7   \n",
      "12  20,127,000                   31.0                         35.0   \n",
      "13  19,791,000                   32.1                         35.7   \n",
      "14  19,331,000                   32.6                         37.3   \n",
      "15  18,964,000                   32.7                         37.9   \n",
      "16  18,543,000                   34.5                         39.4   \n",
      "17  18,201,000                   35.4                         40.5   \n",
      "18  17,805,000                   34.5                         39.3   \n",
      "19  17,403,000                   33.7                         39.0   \n",
      "\n",
      "    FemaleSuicides FemalePopEst  FemaleCrudeRate/100,000   \n",
      "0              154    1,621,000                      9.5  \\\n",
      "1              134    1,678,000                      8.0   \n",
      "2              152    1,705,000                      8.9   \n",
      "3              168    1,754,000                      9.6   \n",
      "4              190    1,843,000                     10.3   \n",
      "5              173    1,822,000                      9.5   \n",
      "6              186    1,778,000                     10.5   \n",
      "7              209    1,740,000                     12.0   \n",
      "8              229    1,780,000                     12.9   \n",
      "9              235    1,785,000                     13.2   \n",
      "10             253    1,827,000                     13.8   \n",
      "11             241    1,845,000                     13.1   \n",
      "12             254    1,873,000                     13.6   \n",
      "13             294    1,875,000                     15.7   \n",
      "14             315    1,910,000                     16.5   \n",
      "15             299    1,899,000                     15.7   \n",
      "16             378    1,937,000                     19.5   \n",
      "17             357    1,965,000                     18.2   \n",
      "18             345    1,992,000                     17.3   \n",
      "19             276    2,000,000                     13.8   \n",
      "\n",
      "    FemaleAgeAdjustedRate/100,000  \n",
      "0                             9.1  \n",
      "1                             7.6  \n",
      "2                             9.0  \n",
      "3                             9.5  \n",
      "4                            10.5  \n",
      "5                             9.3  \n",
      "6                            10.2  \n",
      "7                            11.9  \n",
      "8                            13.0  \n",
      "9                            12.9  \n",
      "10                           13.8  \n",
      "11                           12.9  \n",
      "12                           13.7  \n",
      "13                           15.5  \n",
      "14                           16.3  \n",
      "15                           15.5  \n",
      "16                           19.9  \n",
      "17                           19.0  \n",
      "18                           17.1  \n",
      "19                           14.7  \n"
     ]
    },
    {
     "data": {
      "text/plain": [
       "20"
      ]
     },
     "execution_count": 7,
     "metadata": {},
     "output_type": "execute_result"
    }
   ],
   "source": [
    "import pandas as pd\n",
    "import sqlite3\n",
    "\n",
    "#Set connection to SQLite Database\n",
    "conn=sqlite3.connect(\"Vet-Suicide-Rates.db\")\n",
    "c=conn.cursor()\n",
    "\n",
    "#open and read file\n",
    "open(\"Rates_by_Sex.csv\")\n",
    "ndf=pd.read_csv(\"Rates_by_Sex.csv\")\n",
    "# print(df) #error check and check actual names for columns in preparation for changing column names to an acceptable format for SQlite\n",
    "\n",
    "#Rename Columns\n",
    "ndf.rename(columns={'Year':'Year',\"Veteran\\nSuicide\\nDeaths\":'SuicideDeaths', \"Veteran\\nPopulation\\nEstimate\":'VeteranPop','Veteran\\nCrude\\nRate per\\n100,000':'CrudeRate/100,000', 'Veteran\\nAge-\\nAdjusted\\nRate per\\n100,000':\"AgeAdjustedRate/100,000\",'Veteran\\nAge- and\\nSex-\\nAdjusted\\nRate per\\n100,000':'AgeAndSexAdjustedRate/100,000',\"Male Veteran\\nSuicide\\nDeaths\":'MaleSuicides', \"Male Veteran\\nPopulation\\nEstimate\":'MalePopEst','Male\\nVeteran\\nCrude\\nRate per\\n100,000':'MaleCrudeRate/100,000', 'Male\\nVeteran\\nAge-\\nAdjusted\\nRate per\\n100,000':\"MaleAgeAdjustedRate/100,000\",'Female\\nVeteran\\nSuicide\\nDeaths':\"FemaleSuicides\",'Female\\nVeteran\\nPopulation\\nEstimate':'FemalePopEst','Female\\nVeteran\\nCrude\\nRate per\\n100,000':'FemaleCrudeRate/100,000','Female\\nVeteran\\nAge-\\nAdjusted\\nRate per\\n100,000':'FemaleAgeAdjustedRate/100,000'},inplace=True)\n",
    "# ndf.head()\n",
    "# print(ndf)#error check\n",
    "\n",
    "# #export to SQLite DB\n",
    "ndf.to_sql('RatesBySex.sql',conn,if_exists='replace',index=False)"
   ]
  },
  {
   "cell_type": "code",
   "execution_count": 11,
   "metadata": {},
   "outputs": [
    {
     "name": "stdout",
     "output_type": "stream",
     "text": [
      "    Year  NumofHispanicSuicide  HispanicCrudeRate/100,000   \n",
      "0   2001                   149                       13.8  \\\n",
      "1   2002                   151                       13.6   \n",
      "2   2003                   148                       12.9   \n",
      "3   2004                   162                       14.3   \n",
      "4   2005                   152                       13.3   \n",
      "5   2006                   145                       12.6   \n",
      "6   2007                   170                       14.9   \n",
      "7   2008                   154                       13.0   \n",
      "8   2009                   164                       13.7   \n",
      "9   2010                   205                       16.9   \n",
      "10  2011                   237                       19.1   \n",
      "11  2012                   214                       16.8   \n",
      "12  2013                   197                       15.2   \n",
      "13  2014                   255                       19.2   \n",
      "14  2015                   235                       17.1   \n",
      "15  2016                   266                       19.6   \n",
      "16  2017                   272                       19.3   \n",
      "17  2018                   270                       18.1   \n",
      "18  2019                   273                       18.0   \n",
      "19  2020                   284                       18.6   \n",
      "\n",
      "   NumofNonHispanicSuicide  NonHispanicCrudeRate/100,000   \n",
      "0                    4,994                          20.2  \\\n",
      "1                    5,145                          21.2   \n",
      "2                    5,089                          21.3   \n",
      "3                    5,101                          21.6   \n",
      "4                    5,398                          23.0   \n",
      "5                    5,405                          23.5   \n",
      "6                    5,547                          24.6   \n",
      "7                    5,581                          25.1   \n",
      "8                    5,310                          24.3   \n",
      "9                    6,094                          28.2   \n",
      "10                   6,037                          28.3   \n",
      "11                   6,060                          28.9   \n",
      "12                   6,141                          29.6   \n",
      "13                   6,205                          30.4   \n",
      "14                   6,209                          31.2   \n",
      "15                   6,055                          30.9   \n",
      "16                   6,332                          33.1   \n",
      "17                   6,346                          33.9   \n",
      "18                   6,014                          32.8   \n",
      "19                   5,643                          31.4   \n",
      "\n",
      "   HispanicAffiliationUnkown Percent  \n",
      "0                        858   14.3%  \n",
      "1                        842   13.7%  \n",
      "2                        768   12.8%  \n",
      "3                        741   12.3%  \n",
      "4                        573    9.4%  \n",
      "5                        485    8.0%  \n",
      "6                        532    8.5%  \n",
      "7                        831   12.7%  \n",
      "8                      1,044   16.0%  \n",
      "9                        249    3.8%  \n",
      "10                       173    2.7%  \n",
      "11                       168    2.6%  \n",
      "12                       165    2.5%  \n",
      "13                       187    2.8%  \n",
      "14                       180    2.7%  \n",
      "15                       175    2.7%  \n",
      "16                       179    2.6%  \n",
      "17                       180    2.6%  \n",
      "18                       202    3.1%  \n",
      "19                       219    3.6%  \n"
     ]
    },
    {
     "data": {
      "text/plain": [
       "20"
      ]
     },
     "execution_count": 11,
     "metadata": {},
     "output_type": "execute_result"
    }
   ],
   "source": [
    "import pandas as pd\n",
    "import sqlite3\n",
    "\n",
    "#Set connection to SQLite Database\n",
    "conn=sqlite3.connect(\"Vet-Suicide-Rates.db\")\n",
    "c=conn.cursor()\n",
    "\n",
    "#open and read file\n",
    "open(\"Rates-by-Hispanic-National.csv\")\n",
    "ndf=pd.read_csv(\"Rates-by-Hispanic-National.csv\")\n",
    "# print(ndf) #error check and check actual names for columns in preparation for changing column names to an acceptable format for SQlite\n",
    "\n",
    "#Rename Columns\n",
    "ndf.rename(columns={'Year\\nof\\nDeath':'Year',\"Number of Suicide Deaths\":'NumofHispanicSuicide', \"Crude Rate\":'HispanicCrudeRate/100,000','Number of Suicide Deaths.1':'NumofNonHispanicSuicide', 'Crude Rate.1':\"NonHispanicCrudeRate/100,000\",'Number of Suicide Deaths.2':'HispanicAffiliationUnkown'},inplace=True)\n",
    "# ndf.head()\n",
    "# print(ndf)#error check\n",
    "\n",
    "#export to SQLite DB\n",
    "ndf.to_sql('HispanicAffiliationRates.sql',conn,if_exists='replace',index=False)"
   ]
  },
  {
   "cell_type": "code",
   "execution_count": 34,
   "metadata": {},
   "outputs": [
    {
     "data": {
      "text/plain": [
       "20"
      ]
     },
     "execution_count": 34,
     "metadata": {},
     "output_type": "execute_result"
    }
   ],
   "source": [
    "import pandas as pd\n",
    "import sqlite3\n",
    "\n",
    "#Set connection to SQLite Database\n",
    "conn=sqlite3.connect(\"Vet-Suicide-Rates.db\")\n",
    "c=conn.cursor()\n",
    "\n",
    "#open and read file\n",
    "open(\"Rates-By-Race-National.csv\")\n",
    "ndf=pd.read_csv(\"Rates-By-Race-National.csv\")\n",
    "\n",
    "#Set column names index 0\n",
    "ndf.columns=ndf.iloc[0]\n",
    "# ndf.head()#Error check\n",
    "\n",
    "#drop column 0 because header names were originally located there\n",
    "ndf=ndf.drop([0])\n",
    "# print(ndf) #error check and check actual names for columns in preparation for changing column names to an acceptable format for SQlite\n",
    "\n",
    "# #Rename Columns\n",
    "ndf.rename(columns={'Year\\r\\nof\\r\\nDeath':'Year', \"WhiteCrudeRate\":'WhiteCrudeRate/100,000','AfricanAmericanCrudeRate':\"AfricanAmericanCrudeRate/100,000\",'NativeCrudeRate':'NativeCrudeRate/100,000','Asian/Hawaiian/PacificIslanderCrudeRate':'Asian/Hawaiian/PacificIslanderCrudeRate/100,000','MultipleRaceCrudeRate':'MultipleRaceCrudeRate'},inplace=True)\n",
    "# ndf.head()\n",
    "# print(ndf)#error check\n",
    "\n",
    "#export to SQLite DB\n",
    "ndf.to_sql('RatesByRace.sql',conn,if_exists='replace',index=False)"
   ]
  },
  {
   "cell_type": "code",
   "execution_count": 38,
   "metadata": {},
   "outputs": [
    {
     "name": "stdout",
     "output_type": "stream",
     "text": [
      "    Year AgeGroup NumofSuicide VeteranPopEst  CrudeRate/100,000 MaleSuicide   \n",
      "0   2001    18-34          618     2,616,000               23.6         588  \\\n",
      "1   2001    35-54        2,509     8,899,000               28.2       2,402   \n",
      "2   2001    55-74        1,693     9,761,000               17.3       1,682   \n",
      "3   2001      75+        1,178     4,457,000               26.4       1,172   \n",
      "4   2001      All        6,001    25,733,000               23.3       5,847   \n",
      "..   ...      ...          ...           ...                ...         ...   \n",
      "95  2020    18-34          843     1,827,000               46.1         776   \n",
      "96  2020    35-54        1,575     4,950,000               31.8       1,458   \n",
      "97  2020    55-74        2,222     8,096,000               27.4       2,137   \n",
      "98  2020      75+        1,451     4,530,000               32.0       1,445   \n",
      "99  2020      All        6,146    19,403,000               31.7       5,870   \n",
      "\n",
      "    MalePopEst  MaleCrudeRate/100,000 AgeGroup2 FemaleNumofSuicide   \n",
      "0    2,223,000                   26.5     18-34                 30  \\\n",
      "1    8,137,000                   29.5     35-54                107   \n",
      "2    9,512,000                   17.7       55+                 17   \n",
      "3    4,240,000                   27.6         .                  .   \n",
      "4   24,112,000                   24.2       All                154   \n",
      "..         ...                    ...       ...                ...   \n",
      "95   1,484,000                   52.3     18-34                 67   \n",
      "96   4,142,000                   35.2     35-54                117   \n",
      "97   7,387,000                   28.9       55+                 91   \n",
      "98   4,390,000                   32.9         .                  .   \n",
      "99  17,403,000                   33.7       All                276   \n",
      "\n",
      "   FemalePopEst FemaleCrudeRate/100,000  \n",
      "0       393,000                     7.6  \n",
      "1       762,000                    14.0  \n",
      "2       466,000                     3.6  \n",
      "3             .                       .  \n",
      "4     1,621,000                     9.5  \n",
      "..          ...                     ...  \n",
      "95      343,000                    19.5  \n",
      "96      808,000                    14.5  \n",
      "97      849,000                    10.7  \n",
      "98            .                       .  \n",
      "99    2,000,000                    13.8  \n",
      "\n",
      "[100 rows x 12 columns]\n"
     ]
    },
    {
     "data": {
      "text/plain": [
       "100"
      ]
     },
     "execution_count": 38,
     "metadata": {},
     "output_type": "execute_result"
    }
   ],
   "source": [
    "import pandas as pd\n",
    "import sqlite3\n",
    "\n",
    "#Set connection to SQLite Database\n",
    "conn=sqlite3.connect(\"Vet-Suicide-Rates.db\")\n",
    "c=conn.cursor()\n",
    "\n",
    "#open and read file\n",
    "open(\"Rates-by-sex-by-age.csv\")\n",
    "ndf=pd.read_csv(\"Rates-by-sex-by-age.csv\")\n",
    "# print(ndf) #error check and check actual names for columns in preparation for changing column names to an acceptable format for SQlite\n",
    "\n",
    "#Rename Columns\n",
    "ndf.rename(columns={'Year\\nof\\nDeath':'Year', \"Age\\nGroup\":'AgeGroup','Veteran\\nSuicide\\nDeaths':\"NumofSuicide\",'Veteran\\nPopulation\\nEstimate':'VeteranPopEst','Veteran\\nCrude\\nRate per\\n100,000':'CrudeRate/100,000','Male\\nVeteran\\nSuicide\\nDeaths':'MaleSuicide',\"Male\\nVeteran\\nPopulation\\nEstimate\":'MalePopEst','Male\\nVeteran\\nCrude\\nRate per\\n100,000':'MaleCrudeRate/100,000','Age\\nGroup\\n2':'AgeGroup2','Female\\nVeteran\\nSuicide\\nDeaths':'FemaleNumofSuicide','Female\\nVeteran\\nPopulation\\nEstimate': 'FemalePopEst','Female\\nVeteran\\nCrude\\nRate per\\n100,000':'FemaleCrudeRate/100,000'},inplace=True)\n",
    "# ndf.head()\n",
    "# print(ndf)#error check\n",
    "\n",
    "#export to SQLite DB\n",
    "ndf.to_sql('RatesBySexandAge.sql',conn,if_exists='replace',index=False)"
   ]
  },
  {
   "cell_type": "code",
   "execution_count": 43,
   "metadata": {},
   "outputs": [
    {
     "data": {
      "text/plain": [
       "100"
      ]
     },
     "execution_count": 43,
     "metadata": {},
     "output_type": "execute_result"
    }
   ],
   "source": [
    "import pandas as pd\n",
    "import sqlite3\n",
    "\n",
    "#Set connection to SQLite Database\n",
    "conn=sqlite3.connect(\"Vet-Suicide-Rates.db\")\n",
    "c=conn.cursor()\n",
    "\n",
    "#open and read file\n",
    "open(\"Recent_VHA_By_Age.csv\")\n",
    "ndf=pd.read_csv(\"Recent_VHA_By_Age.csv\")\n",
    "# print(ndf) #error check and check actual names for columns in preparation for changing column names to an acceptable format for SQlite\n",
    "\n",
    "#Rename Columns\n",
    "ndf.rename(columns={'Year\\nof\\nDeath':'Year', \"Age\\nGroup\":'AgeGroup','VHA\\nVeteran\\nSuicide\\nDeaths':\"NumOfRecentVHAuserSuicide\",'VHA\\nVeteran\\nPopulation\\nEstimate':'VHAvetPopEst','VHA\\nVeteran\\nCrude\\nRateper\\n100000':'RecentVHAuserSuicideCrudeRate/100,000'},inplace=True)\n",
    "# ndf.head()\n",
    "# print(ndf)#error check\n",
    "\n",
    "#export to SQLite DB\n",
    "ndf.to_sql('RecentVHAbyAge.sql',conn,if_exists='replace',index=False)"
   ]
  },
  {
   "cell_type": "code",
   "execution_count": 46,
   "metadata": {},
   "outputs": [
    {
     "data": {
      "text/plain": [
       "3120"
      ]
     },
     "execution_count": 46,
     "metadata": {},
     "output_type": "execute_result"
    }
   ],
   "source": [
    "import pandas as pd\n",
    "import sqlite3\n",
    "\n",
    "#Set connection to SQLite Database\n",
    "conn=sqlite3.connect(\"Vet-Suicide-Rates.db\")\n",
    "c=conn.cursor()\n",
    "\n",
    "#open and read file\n",
    "open(\"Sex-By-State.csv\")\n",
    "ndf=pd.read_csv(\"Sex-By-State.csv\")\n",
    "# print(ndf) #error check and check actual names for columns in preparation for changing column names to an acceptable format for SQlite\n",
    "\n",
    "#Rename Columns\n",
    "ndf.rename(columns={'Year\\nof\\nDeath':'Year', \"Geographic\\nRegion\":'GeoRegion','State of Death':\"State\",'Veteran\\nSuicides':'NumofSuicide'},inplace=True)\n",
    "# ndf.head()\n",
    "# print(ndf)#error check\n",
    "\n",
    "#export to SQLite DB\n",
    "ndf.to_sql('SexByYearAndState.sql',conn,if_exists='replace',index=False)"
   ]
  },
  {
   "cell_type": "code",
   "execution_count": 53,
   "metadata": {},
   "outputs": [
    {
     "data": {
      "text/plain": [
       "5600"
      ]
     },
     "execution_count": 53,
     "metadata": {},
     "output_type": "execute_result"
    }
   ],
   "source": [
    "import pandas as pd\n",
    "import sqlite3\n",
    "\n",
    "#Set connection to SQLite Database\n",
    "conn=sqlite3.connect(\"Vet-Suicide-Rates.db\")\n",
    "c=conn.cursor()\n",
    "\n",
    "#open and read file\n",
    "open(\"State-By-Age.csv\")\n",
    "ndf=pd.read_csv(\"State-By-Age.csv\")\n",
    "\n",
    "#Drop unnecessary data\n",
    "ndf=ndf.drop([\"General\\nPopulation\\nSuicides\",'General\\nPopulation\\nRate per\\n100,000'],axis=1)\n",
    "# print(ndf) #error check and check actual names for columns in preparation for changing column names to an acceptable format for SQlite\n",
    "\n",
    "#Rename Columns\n",
    "ndf.rename(columns={\"Geographic\\nRegion\":'GeoRegion','State of Death':\"State\",'Age\\nGroup':'AgeGroup','Veteran\\nSuicides':'Suicides','Veteran\\nSuicide\\nRate\\nper\\n100,000':'SuicideRate/100,000'},inplace=True)\n",
    "# ndf.head()\n",
    "# print(ndf)#error check\n",
    "\n",
    "#export to SQLite DB\n",
    "ndf.to_sql('AgeByState.sql',conn,if_exists='replace',index=False)"
   ]
  },
  {
   "cell_type": "code",
   "execution_count": 71,
   "metadata": {},
   "outputs": [
    {
     "data": {
      "text/plain": [
       "1040"
      ]
     },
     "execution_count": 71,
     "metadata": {},
     "output_type": "execute_result"
    }
   ],
   "source": [
    "import pandas as pd\n",
    "import sqlite3\n",
    "\n",
    "#Set connection to SQLite Database\n",
    "conn=sqlite3.connect(\"Vet-Suicide-Rates.db\")\n",
    "c=conn.cursor()\n",
    "\n",
    "#open and read file\n",
    "open(\"State-By-Race.csv\")\n",
    "ndf=pd.read_csv(\"State-By-Race.csv\")\n",
    "\n",
    "#Drop Null column\n",
    "ndf=ndf.drop(['Unnamed: 3'],axis=1)\n",
    "# print(ndf) #error check and check actual names for columns in preparation for changing column names to an acceptable format for SQlite\n",
    "\n",
    "#Rename Columns\n",
    "ndf.rename(columns={\"State of Death\":'State','All':\"TotalNumofSuicide\",'American\\nIndian /\\nAlaska\\nNative':'NativeAmerican','Asian,\\nNative\\nHawaiian,\\nor Pacific\\nIslander':'Asian/NativeHawaiian/PacificIslander','Multiple\\nRace':'MultipleRace','Unknown\\nRace':'RaceUnknown','Hispanic\\nEthnicity':'HispanicEthnicity','Not\\nHispanic\\nEthnicity':'NotHispanic','Unknown\\nEthnicity':'EthnicityUnknown'},inplace=True)\n",
    "# ndf.head()\n",
    "# print(ndf)#error check\n",
    "\n",
    "#export to SQLite DB\n",
    "ndf.to_sql('RaceByState.sql',conn,if_exists='replace',index=False)"
   ]
  },
  {
   "cell_type": "code",
   "execution_count": 75,
   "metadata": {},
   "outputs": [
    {
     "name": "stdout",
     "output_type": "stream",
     "text": [
      "    Year NonRecentVHAsuicides NonRecentVHApop  NonRecentVHAcrudeRate/100,000   \n",
      "0   2001                4,430      21,834,281                           20.3  \\\n",
      "1   2002                4,432      21,087,451                           21.0   \n",
      "2   2003                4,367      20,372,751                           21.4   \n",
      "3   2004                4,280      19,961,541                           21.4   \n",
      "4   2005                4,399      19,650,084                           22.4   \n",
      "5   2006                4,226      19,081,426                           22.1   \n",
      "6   2007                4,457      18,550,137                           24.0   \n",
      "7   2008                4,623      18,187,295                           25.4   \n",
      "8   2009                4,619      17,727,701                           26.1   \n",
      "9   2010                4,616      17,287,700                           26.7   \n",
      "10  2011                4,324      16,881,314                           25.6   \n",
      "11  2012                4,334      16,435,686                           26.4   \n",
      "12  2013                4,316      16,157,574                           26.7   \n",
      "13  2014                4,376      15,708,475                           27.9   \n",
      "14  2015                4,309      15,194,302                           28.4   \n",
      "15  2016                4,138      14,748,778                           28.1   \n",
      "16  2017                4,413      14,325,195                           30.8   \n",
      "17  2018                4,408      13,986,920                           31.5   \n",
      "18  2019                4,011      13,576,124                           29.5   \n",
      "19  2020                3,706      13,397,918                           27.7   \n",
      "\n",
      "   NonRecentVHAMaleSuicides MaleNonRecentVHApopEst   \n",
      "0                     4,313             20,471,665  \\\n",
      "1                     4,336             19,689,684   \n",
      "2                     4,251             18,970,145   \n",
      "3                     4,159             18,530,003   \n",
      "4                     4,266             18,148,983   \n",
      "5                     4,088             17,616,236   \n",
      "6                     4,322             17,144,858   \n",
      "7                     4,467             16,836,683   \n",
      "8                     4,451             16,357,378   \n",
      "9                     4,447             15,933,328   \n",
      "10                    4,146             15,505,248   \n",
      "11                    4,174             15,062,243   \n",
      "12                    4,136             14,779,970   \n",
      "13                    4,172             14,354,229   \n",
      "14                    4,091             13,827,505   \n",
      "15                    3,941             13,413,611   \n",
      "16                    4,129             12,966,948   \n",
      "17                    4,132             12,615,866   \n",
      "18                    3,784             12,194,717   \n",
      "19                    3,526             11,999,522   \n",
      "\n",
      "    MaleNonRecentVHAuserCrudeRate/100,000  FemaleNonRecentVHAuserSuicides   \n",
      "0                                    21.1                             117  \\\n",
      "1                                    22.0                              96   \n",
      "2                                    22.4                             116   \n",
      "3                                    22.4                             121   \n",
      "4                                    23.5                             133   \n",
      "5                                    23.2                             138   \n",
      "6                                    25.2                             135   \n",
      "7                                    26.5                             156   \n",
      "8                                    27.2                             168   \n",
      "9                                    27.9                             169   \n",
      "10                                   26.7                             178   \n",
      "11                                   27.7                             160   \n",
      "12                                   28.0                             180   \n",
      "13                                   29.1                             204   \n",
      "14                                   29.6                             218   \n",
      "15                                   29.4                             197   \n",
      "16                                   31.8                             284   \n",
      "17                                   32.8                             276   \n",
      "18                                   31.0                             227   \n",
      "19                                   29.4                             180   \n",
      "\n",
      "   FemaleNonRecentVHAuserPopEst  FemaleNonRecentVHAuserCrudeRate/100,000  \n",
      "0                     1,362,616                                      8.6  \n",
      "1                     1,397,767                                      6.9  \n",
      "2                     1,402,606                                      8.3  \n",
      "3                     1,431,538                                      8.5  \n",
      "4                     1,501,101                                      8.9  \n",
      "5                     1,465,190                                      9.4  \n",
      "6                     1,405,279                                      9.6  \n",
      "7                     1,350,612                                     11.6  \n",
      "8                     1,370,323                                     12.3  \n",
      "9                     1,354,372                                     12.5  \n",
      "10                    1,376,066                                     12.9  \n",
      "11                    1,373,443                                     11.6  \n",
      "12                    1,377,604                                     13.1  \n",
      "13                    1,354,246                                     15.1  \n",
      "14                    1,366,797                                     15.9  \n",
      "15                    1,335,167                                     14.8  \n",
      "16                    1,358,247                                     20.9  \n",
      "17                    1,371,055                                     20.1  \n",
      "18                    1,381,408                                     16.4  \n",
      "19                    1,398,398                                     12.9  \n"
     ]
    },
    {
     "data": {
      "text/plain": [
       "20"
      ]
     },
     "execution_count": 75,
     "metadata": {},
     "output_type": "execute_result"
    }
   ],
   "source": [
    "import pandas as pd\n",
    "import sqlite3\n",
    "\n",
    "#Set connection to SQLite Database\n",
    "conn=sqlite3.connect(\"Vet-Suicide-Rates.db\")\n",
    "c=conn.cursor()\n",
    "\n",
    "#open and read file\n",
    "open(\"NonRecentVHA.csv\")\n",
    "ndf=pd.read_csv(\"NonRecentVHA.csv\")\n",
    "\n",
    "#Drop Null column\n",
    "ndf=ndf.drop(['Other\\nVeteran\\nAge-\\nAdjusted\\nRate per\\n100,000','Other\\nVeteran\\nAge- and\\nSex-\\nAdjusted\\nRate per\\n100,000','Male\\nOther\\nVeteran\\nAge-\\nAdjusted\\nRate per\\n100,000','Female\\nOther\\nVeteran\\nAge-\\nAdjusted\\nRate per\\n100,000'],axis=1)\n",
    "# print(ndf) #error check and check actual names for columns in preparation for changing column names to an acceptable format for SQlite\n",
    "\n",
    "#Rename Columns\n",
    "ndf.rename(columns={\"Year\\nof\\nDeath\":'Year','Other\\nVeteran\\nSuicide\\nDeaths':\"NonRecentVHAsuicides\",'Other\\nVeteran\\nPopulation\\nEstimate':'NonRecentVHApop','Other\\nVeteran\\nCrude\\nRate per\\n100,000':'NonRecentVHAcrudeRate/100,000','Male Other\\nVeteran\\nSuicide\\nDeaths':'NonRecentVHAMaleSuicides','Male Other\\nVeteran\\nPopulation\\nEstimate':'MaleNonRecentVHApopEst','Male\\nOther\\nVeteran\\nCrude\\nRate per\\n100,000':'MaleNonRecentVHAuserCrudeRate/100,000','Female Other\\nVeteran\\nSuicide\\nDeaths':'FemaleNonRecentVHAuserSuicides','Female Other\\nVeteran\\nPopulation\\nEstimate':'FemaleNonRecentVHAuserPopEst','Female\\nOther\\nVeteran\\nCrude\\nRate per\\n100,000':'FemaleNonRecentVHAuserCrudeRate/100,000'},inplace=True)\n",
    "# ndf.head()\n",
    "# print(ndf)#error check\n",
    "\n",
    "# #export to SQLite DB\n",
    "ndf.to_sql('NonRecentVHAbyYear.sql',conn,if_exists='replace',index=False)"
   ]
  },
  {
   "cell_type": "code",
   "execution_count": 79,
   "metadata": {},
   "outputs": [
    {
     "data": {
      "text/plain": [
       "100"
      ]
     },
     "execution_count": 79,
     "metadata": {},
     "output_type": "execute_result"
    }
   ],
   "source": [
    "import pandas as pd\n",
    "import sqlite3\n",
    "\n",
    "#Set connection to SQLite Database\n",
    "conn=sqlite3.connect(\"Vet-Suicide-Rates.db\")\n",
    "c=conn.cursor()\n",
    "\n",
    "#open and read file\n",
    "open(\"NonRecentVHAbyAge.csv\")\n",
    "ndf=pd.read_csv(\"NonRecentVHAbyAge.csv\")\n",
    "\n",
    "# print(ndf) #error check and check actual names for columns in preparation for changing column names to an acceptable format for SQlite\n",
    "\n",
    "#Rename Columns\n",
    "ndf.rename(columns={\"Year\\nof\\nDeath\":'Year','Age\\nGroup':\"AgeGroup\",'Other\\nVeteran\\nSuicide\\nDeaths':'NonRecentVHAsuicides','Other\\nVeteran\\nPopulation\\nEstimate':'NonRecentVHAuserPopEst','Other\\nVeteran\\nCrude\\nRate per\\n100,000':'NonRecentVHAcrudeRate/100,000'},inplace=True)\n",
    "# ndf.head()\n",
    "# print(ndf)#error check\n",
    "\n",
    "# #export to SQLite DB\n",
    "ndf.to_sql('NonRecentVHAbyAge.sql',conn,if_exists='replace',index=False)"
   ]
  }
 ],
 "metadata": {
  "kernelspec": {
   "display_name": "Python 3",
   "language": "python",
   "name": "python3"
  },
  "language_info": {
   "codemirror_mode": {
    "name": "ipython",
    "version": 3
   },
   "file_extension": ".py",
   "mimetype": "text/x-python",
   "name": "python",
   "nbconvert_exporter": "python",
   "pygments_lexer": "ipython3",
   "version": "3.11.3"
  },
  "orig_nbformat": 4
 },
 "nbformat": 4,
 "nbformat_minor": 2
}
