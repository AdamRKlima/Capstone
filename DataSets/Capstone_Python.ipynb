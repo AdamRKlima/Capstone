{
 "cells": [
  {
   "cell_type": "code",
   "execution_count": 19,
   "metadata": {},
   "outputs": [
    {
     "data": {
      "text/plain": [
       "1040"
      ]
     },
     "execution_count": 19,
     "metadata": {},
     "output_type": "execute_result"
    }
   ],
   "source": [
    "import pandas as pd\n",
    "import sqlite3\n",
    "\n",
    "#Set connection to SQLite Database\n",
    "conn=sqlite3.connect(\"Vet-Suicide-Rates.db\")\n",
    "c=conn.cursor()\n",
    "\n",
    "#open and read file\n",
    "open(\"num-of-suic-by-state.csv\")\n",
    "df=pd.read_csv(\"num-of-suic-by-state.csv\")\n",
    "#print(df) #error check and check actual names for columns in preparation for changing column names to an acceptable format for SQlite\n",
    "\n",
    "#Rename Columns\n",
    "df.rename(columns={\"Year\\nof\\nDeath\":'Year', \"Geographic\\nRegion\":'Region','State of Death':'State', 'Veteran\\nSuicides':\"Suicides\"},inplace=True)\n",
    "# ndf.head()\n",
    "# print(df)#error check\n",
    "\n",
    "#export to SQLite DB\n",
    "df.to_sql('NumofSuicByState.sql',conn,if_exists='replace',index=False)\n"
   ]
  },
  {
   "cell_type": "code",
   "execution_count": 2,
   "metadata": {},
   "outputs": [
    {
     "data": {
      "text/plain": [
       "20"
      ]
     },
     "execution_count": 2,
     "metadata": {},
     "output_type": "execute_result"
    }
   ],
   "source": [
    "import pandas as pd\n",
    "import sqlite3\n",
    "\n",
    "#Set connection to SQLite Database\n",
    "conn=sqlite3.connect(\"Vet-Suicide-Rates.db\")\n",
    "c=conn.cursor()\n",
    "\n",
    "#open and read file\n",
    "open(\"Rates_by_Sex.csv\")\n",
    "ndf=pd.read_csv(\"Rates_by_Sex.csv\")\n",
    "# print(df) #error check and check actual names for columns in preparation for changing column names to an acceptable format for SQlite\n",
    "\n",
    "#Rename Columns\n",
    "ndf.rename(columns={'Year':'Year',\"Veteran\\nSuicide\\nDeaths\":'SuicideDeaths', \"Veteran\\nPopulation\\nEstimate\":'VeteranPop','Veteran\\nCrude\\nRate per\\n100,000':'CrudeRate/100,000', 'Veteran\\nAge-\\nAdjusted\\nRate per\\n100,000':\"AgeAdjustedRate/100,000\",'Veteran\\nAge- and\\nSex-\\nAdjusted\\nRate per\\n100,000':'AgeAndSexAdjustedRate/100,000',\"Male Veteran\\nSuicide\\nDeaths\":'MaleSuicides', \"Male Veteran\\nPopulation\\nEstimate\":'MalePopEst','Male\\nVeteran\\nCrude\\nRate per\\n100,000':'MaleCrudeRate/100,000', 'Male\\nVeteran\\nAge-\\nAdjusted\\nRate per\\n100,000':\"MaleAgeAdjustedRate/100,000\",'Female\\nVeteran\\nSuicide\\nDeaths':\"FemaleSuicides\",'Female\\nVeteran\\nPopulation\\nEstimate':'FemalePopEst','Female\\nVeteran\\nCrude\\nRate per\\n100,000':'FemaleCrudeRate/100,000','Female\\nVeteran\\nAge-\\nAdjusted\\nRate per\\n100,000':'FemaleAgeAdjustedRate/100,000'},inplace=True)\n",
    "# ndf.head()\n",
    "# print(ndf)#error check\n",
    "\n",
    "# #export to SQLite DB\n",
    "ndf.to_sql('RatesBySex.sql',conn,if_exists='replace',index=False)"
   ]
  },
  {
   "cell_type": "code",
   "execution_count": 3,
   "metadata": {},
   "outputs": [
    {
     "data": {
      "text/plain": [
       "20"
      ]
     },
     "execution_count": 3,
     "metadata": {},
     "output_type": "execute_result"
    }
   ],
   "source": [
    "import pandas as pd\n",
    "import sqlite3\n",
    "\n",
    "#Set connection to SQLite Database\n",
    "conn=sqlite3.connect(\"Vet-Suicide-Rates.db\")\n",
    "c=conn.cursor()\n",
    "\n",
    "#open and read file\n",
    "open(\"Rates-by-Hispanic-National.csv\")\n",
    "ndf=pd.read_csv(\"Rates-by-Hispanic-National.csv\")\n",
    "# print(ndf) #error check and check actual names for columns in preparation for changing column names to an acceptable format for SQlite\n",
    "\n",
    "#Rename Columns\n",
    "ndf.rename(columns={'Year\\nof\\nDeath':'Year',\"Number of Suicide Deaths\":'NumofHispanicSuicide', \"Crude Rate\":'HispanicCrudeRate/100,000','Number of Suicide Deaths.1':'NumofNonHispanicSuicide', 'Crude Rate.1':\"NonHispanicCrudeRate/100,000\",'Number of Suicide Deaths.2':'HispanicAffiliationUnkown'},inplace=True)\n",
    "# ndf.head()\n",
    "# print(ndf)#error check\n",
    "\n",
    "#export to SQLite DB\n",
    "ndf.to_sql('HispanicAffiliationRates.sql',conn,if_exists='replace',index=False)"
   ]
  },
  {
   "cell_type": "code",
   "execution_count": 4,
   "metadata": {},
   "outputs": [
    {
     "data": {
      "text/plain": [
       "20"
      ]
     },
     "execution_count": 4,
     "metadata": {},
     "output_type": "execute_result"
    }
   ],
   "source": [
    "import pandas as pd\n",
    "import sqlite3\n",
    "\n",
    "#Set connection to SQLite Database\n",
    "conn=sqlite3.connect(\"Vet-Suicide-Rates.db\")\n",
    "c=conn.cursor()\n",
    "\n",
    "#open and read file\n",
    "open(\"Rates-By-Race-National.csv\")\n",
    "ndf=pd.read_csv(\"Rates-By-Race-National.csv\")\n",
    "\n",
    "#Set column names index 0\n",
    "ndf.columns=ndf.iloc[0]\n",
    "# ndf.head()#Error check\n",
    "\n",
    "#drop column 0 because header names were originally located there\n",
    "ndf=ndf.drop([0])\n",
    "# print(ndf) #error check and check actual names for columns in preparation for changing column names to an acceptable format for SQlite\n",
    "\n",
    "# #Rename Columns\n",
    "ndf.rename(columns={'Year\\r\\nof\\r\\nDeath':'Year', \"WhiteCrudeRate\":'WhiteCrudeRate/100,000','AfricanAmericanCrudeRate':\"AfricanAmericanCrudeRate/100,000\",'NativeCrudeRate':'NativeCrudeRate/100,000','Asian/Hawaiian/PacificIslanderCrudeRate':'Asian/Hawaiian/PacificIslanderCrudeRate/100,000','MultipleRaceCrudeRate':'MultipleRaceCrudeRate'},inplace=True)\n",
    "# ndf.head()\n",
    "# print(ndf)#error check\n",
    "\n",
    "#export to SQLite DB\n",
    "ndf.to_sql('RatesByRace.sql',conn,if_exists='replace',index=False)"
   ]
  },
  {
   "cell_type": "code",
   "execution_count": 5,
   "metadata": {},
   "outputs": [
    {
     "data": {
      "text/plain": [
       "100"
      ]
     },
     "execution_count": 5,
     "metadata": {},
     "output_type": "execute_result"
    }
   ],
   "source": [
    "import pandas as pd\n",
    "import sqlite3\n",
    "\n",
    "#Set connection to SQLite Database\n",
    "conn=sqlite3.connect(\"Vet-Suicide-Rates.db\")\n",
    "c=conn.cursor()\n",
    "\n",
    "#open and read file\n",
    "open(\"Rates-by-sex-by-age.csv\")\n",
    "ndf=pd.read_csv(\"Rates-by-sex-by-age.csv\")\n",
    "# print(ndf) #error check and check actual names for columns in preparation for changing column names to an acceptable format for SQlite\n",
    "\n",
    "#Rename Columns\n",
    "ndf.rename(columns={'Year\\nof\\nDeath':'Year', \"Age\\nGroup\":'AgeGroup','Veteran\\nSuicide\\nDeaths':\"NumofSuicide\",'Veteran\\nPopulation\\nEstimate':'VeteranPopEst','Veteran\\nCrude\\nRate per\\n100,000':'CrudeRate/100,000','Male\\nVeteran\\nSuicide\\nDeaths':'MaleSuicide',\"Male\\nVeteran\\nPopulation\\nEstimate\":'MalePopEst','Male\\nVeteran\\nCrude\\nRate per\\n100,000':'MaleCrudeRate/100,000','Age\\nGroup\\n2':'AgeGroup2','Female\\nVeteran\\nSuicide\\nDeaths':'FemaleNumofSuicide','Female\\nVeteran\\nPopulation\\nEstimate': 'FemalePopEst','Female\\nVeteran\\nCrude\\nRate per\\n100,000':'FemaleCrudeRate/100,000'},inplace=True)\n",
    "# ndf.head()\n",
    "# print(ndf)#error check\n",
    "\n",
    "#export to SQLite DB\n",
    "ndf.to_sql('RatesBySexandAge.sql',conn,if_exists='replace',index=False)"
   ]
  },
  {
   "cell_type": "code",
   "execution_count": 6,
   "metadata": {},
   "outputs": [
    {
     "data": {
      "text/plain": [
       "100"
      ]
     },
     "execution_count": 6,
     "metadata": {},
     "output_type": "execute_result"
    }
   ],
   "source": [
    "import pandas as pd\n",
    "import sqlite3\n",
    "\n",
    "#Set connection to SQLite Database\n",
    "conn=sqlite3.connect(\"Vet-Suicide-Rates.db\")\n",
    "c=conn.cursor()\n",
    "\n",
    "#open and read file\n",
    "open(\"Recent_VHA_By_Age.csv\")\n",
    "ndf=pd.read_csv(\"Recent_VHA_By_Age.csv\")\n",
    "# print(ndf) #error check and check actual names for columns in preparation for changing column names to an acceptable format for SQlite\n",
    "\n",
    "#Rename Columns\n",
    "ndf.rename(columns={'Year\\nof\\nDeath':'Year', \"Age\\nGroup\":'AgeGroup','VHA\\nVeteran\\nSuicide\\nDeaths':\"NumOfRecentVHAuserSuicide\",'VHA\\nVeteran\\nPopulation\\nEstimate':'VHAvetPopEst','VHA\\nVeteran\\nCrude\\nRateper\\n100000':'RecentVHAuserSuicideCrudeRate/100,000'},inplace=True)\n",
    "# ndf.head()\n",
    "# print(ndf)#error check\n",
    "\n",
    "#export to SQLite DB\n",
    "ndf.to_sql('RecentVHAbyAge.sql',conn,if_exists='replace',index=False)"
   ]
  },
  {
   "cell_type": "code",
   "execution_count": 7,
   "metadata": {},
   "outputs": [
    {
     "data": {
      "text/plain": [
       "3120"
      ]
     },
     "execution_count": 7,
     "metadata": {},
     "output_type": "execute_result"
    }
   ],
   "source": [
    "import pandas as pd\n",
    "import sqlite3\n",
    "\n",
    "#Set connection to SQLite Database\n",
    "conn=sqlite3.connect(\"Vet-Suicide-Rates.db\")\n",
    "c=conn.cursor()\n",
    "\n",
    "#open and read file\n",
    "open(\"Sex-By-State.csv\")\n",
    "ndf=pd.read_csv(\"Sex-By-State.csv\")\n",
    "# print(ndf) #error check and check actual names for columns in preparation for changing column names to an acceptable format for SQlite\n",
    "\n",
    "#Rename Columns\n",
    "ndf.rename(columns={'Year\\nof\\nDeath':'Year', \"Geographic\\nRegion\":'GeoRegion','State of Death':\"State\",'Veteran\\nSuicides':'NumofSuicide'},inplace=True)\n",
    "# ndf.head()\n",
    "# print(ndf)#error check\n",
    "\n",
    "#export to SQLite DB\n",
    "ndf.to_sql('SexByYearAndState.sql',conn,if_exists='replace',index=False)"
   ]
  },
  {
   "cell_type": "code",
   "execution_count": 8,
   "metadata": {},
   "outputs": [
    {
     "data": {
      "text/plain": [
       "5600"
      ]
     },
     "execution_count": 8,
     "metadata": {},
     "output_type": "execute_result"
    }
   ],
   "source": [
    "import pandas as pd\n",
    "import sqlite3\n",
    "\n",
    "#Set connection to SQLite Database\n",
    "conn=sqlite3.connect(\"Vet-Suicide-Rates.db\")\n",
    "c=conn.cursor()\n",
    "\n",
    "#open and read file\n",
    "open(\"State-By-Age.csv\")\n",
    "ndf=pd.read_csv(\"State-By-Age.csv\")\n",
    "\n",
    "#Drop unnecessary data\n",
    "ndf=ndf.drop([\"General\\nPopulation\\nSuicides\",'General\\nPopulation\\nRate per\\n100,000'],axis=1)\n",
    "# print(ndf) #error check and check actual names for columns in preparation for changing column names to an acceptable format for SQlite\n",
    "\n",
    "#Rename Columns\n",
    "ndf.rename(columns={\"Geographic\\nRegion\":'GeoRegion','State of Death':\"State\",'Age\\nGroup':'AgeGroup','Veteran\\nSuicides':'Suicides','Veteran\\nSuicide\\nRate\\nper\\n100,000':'SuicideRate/100,000'},inplace=True)\n",
    "# ndf.head()\n",
    "# print(ndf)#error check\n",
    "\n",
    "#export to SQLite DB\n",
    "ndf.to_sql('AgeByState.sql',conn,if_exists='replace',index=False)"
   ]
  },
  {
   "cell_type": "code",
   "execution_count": 9,
   "metadata": {},
   "outputs": [
    {
     "data": {
      "text/plain": [
       "1040"
      ]
     },
     "execution_count": 9,
     "metadata": {},
     "output_type": "execute_result"
    }
   ],
   "source": [
    "import pandas as pd\n",
    "import sqlite3\n",
    "\n",
    "#Set connection to SQLite Database\n",
    "conn=sqlite3.connect(\"Vet-Suicide-Rates.db\")\n",
    "c=conn.cursor()\n",
    "\n",
    "#open and read file\n",
    "open(\"State-By-Race.csv\")\n",
    "ndf=pd.read_csv(\"State-By-Race.csv\")\n",
    "\n",
    "#Drop Null column\n",
    "ndf=ndf.drop(['Unnamed: 3'],axis=1)\n",
    "# print(ndf) #error check and check actual names for columns in preparation for changing column names to an acceptable format for SQlite\n",
    "\n",
    "#Rename Columns\n",
    "ndf.rename(columns={\"State of Death\":'State','All':\"TotalNumofSuicide\",'American\\nIndian /\\nAlaska\\nNative':'NativeAmerican','Asian,\\nNative\\nHawaiian,\\nor Pacific\\nIslander':'Asian/NativeHawaiian/PacificIslander','Multiple\\nRace':'MultipleRace','Unknown\\nRace':'RaceUnknown','Hispanic\\nEthnicity':'HispanicEthnicity','Not\\nHispanic\\nEthnicity':'NotHispanic','Unknown\\nEthnicity':'EthnicityUnknown'},inplace=True)\n",
    "# ndf.head()\n",
    "# print(ndf)#error check\n",
    "\n",
    "#export to SQLite DB\n",
    "ndf.to_sql('RaceByState.sql',conn,if_exists='replace',index=False)"
   ]
  },
  {
   "cell_type": "code",
   "execution_count": 10,
   "metadata": {},
   "outputs": [
    {
     "data": {
      "text/plain": [
       "20"
      ]
     },
     "execution_count": 10,
     "metadata": {},
     "output_type": "execute_result"
    }
   ],
   "source": [
    "import pandas as pd\n",
    "import sqlite3\n",
    "\n",
    "#Set connection to SQLite Database\n",
    "conn=sqlite3.connect(\"Vet-Suicide-Rates.db\")\n",
    "c=conn.cursor()\n",
    "\n",
    "#open and read file\n",
    "open(\"NonRecentVHA.csv\")\n",
    "ndf=pd.read_csv(\"NonRecentVHA.csv\")\n",
    "\n",
    "#Drop Null column\n",
    "ndf=ndf.drop(['Other\\nVeteran\\nAge-\\nAdjusted\\nRate per\\n100,000','Other\\nVeteran\\nAge- and\\nSex-\\nAdjusted\\nRate per\\n100,000','Male\\nOther\\nVeteran\\nAge-\\nAdjusted\\nRate per\\n100,000','Female\\nOther\\nVeteran\\nAge-\\nAdjusted\\nRate per\\n100,000'],axis=1)\n",
    "# print(ndf) #error check and check actual names for columns in preparation for changing column names to an acceptable format for SQlite\n",
    "\n",
    "#Rename Columns\n",
    "ndf.rename(columns={\"Year\\nof\\nDeath\":'Year','Other\\nVeteran\\nSuicide\\nDeaths':\"NonRecentVHAsuicides\",'Other\\nVeteran\\nPopulation\\nEstimate':'NonRecentVHApop','Other\\nVeteran\\nCrude\\nRate per\\n100,000':'NonRecentVHAcrudeRate/100,000','Male Other\\nVeteran\\nSuicide\\nDeaths':'NonRecentVHAMaleSuicides','Male Other\\nVeteran\\nPopulation\\nEstimate':'MaleNonRecentVHApopEst','Male\\nOther\\nVeteran\\nCrude\\nRate per\\n100,000':'MaleNonRecentVHAuserCrudeRate/100,000','Female Other\\nVeteran\\nSuicide\\nDeaths':'FemaleNonRecentVHAuserSuicides','Female Other\\nVeteran\\nPopulation\\nEstimate':'FemaleNonRecentVHAuserPopEst','Female\\nOther\\nVeteran\\nCrude\\nRate per\\n100,000':'FemaleNonRecentVHAuserCrudeRate/100,000'},inplace=True)\n",
    "# ndf.head()\n",
    "# print(ndf)#error check\n",
    "\n",
    "# #export to SQLite DB\n",
    "ndf.to_sql('NonRecentVHAbyYear.sql',conn,if_exists='replace',index=False)"
   ]
  },
  {
   "cell_type": "code",
   "execution_count": 11,
   "metadata": {},
   "outputs": [
    {
     "data": {
      "text/plain": [
       "100"
      ]
     },
     "execution_count": 11,
     "metadata": {},
     "output_type": "execute_result"
    }
   ],
   "source": [
    "import pandas as pd\n",
    "import sqlite3\n",
    "\n",
    "#Set connection to SQLite Database\n",
    "conn=sqlite3.connect(\"Vet-Suicide-Rates.db\")\n",
    "c=conn.cursor()\n",
    "\n",
    "#open and read file\n",
    "open(\"NonRecentVHAbyAge.csv\")\n",
    "ndf=pd.read_csv(\"NonRecentVHAbyAge.csv\")\n",
    "\n",
    "# print(ndf) #error check and check actual names for columns in preparation for changing column names to an acceptable format for SQlite\n",
    "\n",
    "#Rename Columns\n",
    "ndf.rename(columns={\"Year\\nof\\nDeath\":'Year','Age\\nGroup':\"AgeGroup\",'Other\\nVeteran\\nSuicide\\nDeaths':'NonRecentVHAsuicides','Other\\nVeteran\\nPopulation\\nEstimate':'NonRecentVHAuserPopEst','Other\\nVeteran\\nCrude\\nRate per\\n100,000':'NonRecentVHAcrudeRate/100,000'},inplace=True)\n",
    "# ndf.head()\n",
    "# print(ndf)#error check\n",
    "\n",
    "# #export to SQLite DB\n",
    "ndf.to_sql('NonRecentVHAbyAge.sql',conn,if_exists='replace',index=False)"
   ]
  },
  {
   "cell_type": "code",
   "execution_count": 12,
   "metadata": {},
   "outputs": [
    {
     "data": {
      "text/plain": [
       "6"
      ]
     },
     "execution_count": 12,
     "metadata": {},
     "output_type": "execute_result"
    }
   ],
   "source": [
    "import pandas as pd\n",
    "import sqlite3\n",
    "import sqlalchemy\n",
    "\n",
    "#Set connection to SQLite Database\n",
    "conn=sqlite3.connect(\"Vet-Suicide-Rates.db\")\n",
    "c=conn.cursor()\n",
    "#open and read file\n",
    "open(\"RatesBySexAndRace.csv\")\n",
    "ndf=pd.read_csv(\"RatesBySexAndRace.csv\") \n",
    "\n",
    "##Set column names index 0\n",
    "ndf.columns=ndf.iloc[0]\n",
    "# print(ndf) #\n",
    "\n",
    "#drop column 0 because header names were originally located there\n",
    "ndf=ndf.drop([0])\n",
    "# print(ndf) #error check and check actual names for columns in preparation for changing column names to an acceptable format for SQlite\n",
    "\n",
    "#Debugging step to get rid of duplicate column names error\n",
    "ndf=ndf.T.drop_duplicates().T\n",
    "# print(ndf)#error check\n",
    "\n",
    "#export to SQLite DB\n",
    "ndf.to_sql('RatesBySexAndRace.csv',conn,if_exists='replace',index=False)"
   ]
  },
  {
   "cell_type": "code",
   "execution_count": 18,
   "metadata": {},
   "outputs": [
    {
     "ename": "AttributeError",
     "evalue": "'NoneType' object has no attribute 'cell'",
     "output_type": "error",
     "traceback": [
      "\u001b[1;31m---------------------------------------------------------------------------\u001b[0m",
      "\u001b[1;31mAttributeError\u001b[0m                            Traceback (most recent call last)",
      "Cell \u001b[1;32mIn[18], line 27\u001b[0m\n\u001b[0;32m     25\u001b[0m j\u001b[39m=\u001b[39m\u001b[39m1\u001b[39m\n\u001b[0;32m     26\u001b[0m \u001b[39mfor\u001b[39;00m col \u001b[39min\u001b[39;00m row:\n\u001b[1;32m---> 27\u001b[0m     cell\u001b[39m=\u001b[39msheet\u001b[39m.\u001b[39;49mcell(row\u001b[39m=\u001b[39mi, column\u001b[39m=\u001b[39mj)\n\u001b[0;32m     28\u001b[0m     cell\u001b[39m.\u001b[39mvalue\u001b[39m=\u001b[39m col\n\u001b[0;32m     29\u001b[0m     j\u001b[39m+\u001b[39m\u001b[39m=\u001b[39m\u001b[39m1\u001b[39m\n",
      "\u001b[1;31mAttributeError\u001b[0m: 'NoneType' object has no attribute 'cell'"
     ]
    }
   ],
   "source": [
    "import sqlite3\n",
    "import openpyxl\n",
    "import os\n",
    "\n",
    "#Establish datase\n",
    "db= 'Vet-Suicide-Rates.db'\n",
    "\n",
    "conn=sqlite3.connect('Vet-Suicide-Rates.db')\n",
    "cursor= conn.cursor()\n",
    "\n",
    "tbls = [a for a in cursor.execute(\"SELECT name FROM sqlite_master WHERE type = 'table'\")]\n",
    "# print(tbls)\n",
    "\n",
    "\n",
    "bk=openpyxl.Workbook(\"demo.xlsx\")\n",
    "sheet=bk.active\n",
    "\n",
    "\n",
    "# create for loop going through the tbl names and running cursor.execute for each iteration using f \n",
    "cursor.execute(\"SELECT name FROM sqlite_master WHERE type = 'table'\")\n",
    "cursor= conn.cursor()\n",
    "results=cursor.fetchall()\n",
    "i=0\n",
    "for row in results:\n",
    "    i +=1\n",
    "    j=1\n",
    "    for col in row:\n",
    "        cell=sheet.cell(row=i, column=j)\n",
    "        cell.value= col\n",
    "        j+=1\n",
    "print(resu)\n",
    "# bk.save('demo.xlsx')\n",
    "# conn.close()"
   ]
  }
 ],
 "metadata": {
  "kernelspec": {
   "display_name": "Python 3",
   "language": "python",
   "name": "python3"
  },
  "language_info": {
   "codemirror_mode": {
    "name": "ipython",
    "version": 3
   },
   "file_extension": ".py",
   "mimetype": "text/x-python",
   "name": "python",
   "nbconvert_exporter": "python",
   "pygments_lexer": "ipython3",
   "version": "3.11.3"
  },
  "orig_nbformat": 4
 },
 "nbformat": 4,
 "nbformat_minor": 2
}
